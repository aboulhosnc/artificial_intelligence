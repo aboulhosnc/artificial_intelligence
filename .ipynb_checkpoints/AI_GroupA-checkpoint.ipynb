{
 "cells": [
  {
   "cell_type": "code",
   "execution_count": 6,
   "metadata": {},
   "outputs": [
    {
     "ename": "SyntaxError",
     "evalue": "invalid syntax (<ipython-input-6-3402aefc4d9f>, line 29)",
     "output_type": "error",
     "traceback": [
      "\u001b[0;36m  File \u001b[0;32m\"<ipython-input-6-3402aefc4d9f>\"\u001b[0;36m, line \u001b[0;32m29\u001b[0m\n\u001b[0;31m    net = (-160/6.15)*x+(-1)y+285\u001b[0m\n\u001b[0m                            ^\u001b[0m\n\u001b[0;31mSyntaxError\u001b[0m\u001b[0;31m:\u001b[0m invalid syntax\n"
     ]
    }
   ],
   "source": [
    "import pandas as pd\n",
    "import numpy as np\n",
    "import matplotlib.pyplot as plt\n",
    "import seaborn as sns; sns.set()\n",
    "%matplotlib inline\n",
    "import pandas as pd\n",
    "import numpy as np\n",
    "import matplotlib.pyplot as plt\n",
    "import seaborn as sns; sns.set()\n",
    "%matplotlib inline\n",
    "\n",
    "df = pd.read_csv('groupA.txt')\n",
    "df.columns = ['Height','Weight','Sex']\n",
    "\n",
    "df_male = df[df['Sex']==0]\n",
    "df_male\n",
    "\n",
    "df_female = df[df['Sex']==1]\n",
    "df_female\n",
    "\n",
    "sns.lmplot( x=\"Height\", y=\"Weight\",data=df, hue = 'Sex', palette ='GnBu', fit_reg = False)\n",
    "\n",
    "x = np.arange(4,8)\n",
    "y = (-160/6.15)*x +285\n",
    "\n",
    "plt.plot(x,y,'mediumaquamarine') \n",
    "plt.show()\n",
    "\n",
    "net = (-160/6.15)*x+(-1)*y+285\n",
    "net_output = []\n",
    "\n",
    "for index, row in df_male.iterrows():\n",
    "    x = row['Height']\n",
    "    y = row['Weight']\n",
    "    net = (-160/6.15)*x+(-1)*y+285\n",
    "    #print(row['Height'], row['Weight'],net)\n",
    "    net_output.append(net)\n",
    "\n",
    "df_male['NEW'] = net_output\n",
    "df_male.min()\n",
    "\n",
    "net = (-160/6.15)*x+(-1)*y+6.15\n",
    "net_output = []\n",
    "\n",
    "for index, row in df_female.iterrows():\n",
    "    x = row['Height']\n",
    "    y = row['Weight']\n",
    "    net = (-160/6.15)*x+(-1)*y+285\n",
    "    #print(row['Height'], row['Weight'],net)\n",
    "    net_output.append(net)\n",
    "\n",
    "df_female['NEW'] = net_output\n",
    "df_female.min()\n",
    "\n",
    "df_threshold = 0.9\n",
    "\n",
    "guess = []\n",
    "\n",
    "for index, row in df.iterrows():\n",
    "    z = row['NEW']\n",
    "    if z < 0.9:\n",
    "        guess_out = 0\n",
    "        guess.append(guess_out)\n",
    "    else:\n",
    "        guess_out = 1\n",
    "        guess.append(guess_out)\n",
    "\n",
    "df['Guess'] = guess\n",
    "df"
   ]
  },
  {
   "cell_type": "code",
   "execution_count": null,
   "metadata": {},
   "outputs": [],
   "source": []
  }
 ],
 "metadata": {
  "kernelspec": {
   "display_name": "Python 3",
   "language": "python",
   "name": "python3"
  },
  "language_info": {
   "codemirror_mode": {
    "name": "ipython",
    "version": 3
   },
   "file_extension": ".py",
   "mimetype": "text/x-python",
   "name": "python",
   "nbconvert_exporter": "python",
   "pygments_lexer": "ipython3",
   "version": "3.7.3"
  }
 },
 "nbformat": 4,
 "nbformat_minor": 2
}
