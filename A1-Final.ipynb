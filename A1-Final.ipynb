{
 "cells": [
  {
   "cell_type": "code",
   "execution_count": 33,
   "metadata": {},
   "outputs": [],
   "source": [
    "import pandas as pd\n",
    "import numpy as np\n",
    "import matplotlib.pyplot as plt\n",
    "import seaborn as sns; sns.set()\n",
    "%matplotlib inline\n",
    "import random"
   ]
  },
  {
   "cell_type": "code",
   "execution_count": 44,
   "metadata": {},
   "outputs": [],
   "source": [
    "df = pd.read_csv('groupA.txt')\n",
    "#df = pd.read_csv('groupB.txt')\n",
    "#df = pd.read_csv('groupC.txt')\n",
    "\n",
    "\n",
    "\n",
    "df.columns = ['Height','Weight','Sex']"
   ]
  },
  {
   "cell_type": "code",
   "execution_count": 45,
   "metadata": {
    "collapsed": true
   },
   "outputs": [
    {
     "data": {
      "text/plain": [
       "0       1.133535\n",
       "1       0.694660\n",
       "2       1.124379\n",
       "3       0.932095\n",
       "4       1.101296\n",
       "5       1.134687\n",
       "6       0.617817\n",
       "7       0.978748\n",
       "8       0.824390\n",
       "9       0.973003\n",
       "10      0.832992\n",
       "11      0.830718\n",
       "12      0.969922\n",
       "13      0.759060\n",
       "14      0.733754\n",
       "15      1.102942\n",
       "16      0.977279\n",
       "17      1.047094\n",
       "18      1.235072\n",
       "19      0.692579\n",
       "20      1.139292\n",
       "21      0.741654\n",
       "22      0.669145\n",
       "23      1.045838\n",
       "24      1.132890\n",
       "25      1.152082\n",
       "26      1.109033\n",
       "27      0.984906\n",
       "28      0.242265\n",
       "29      1.264282\n",
       "          ...   \n",
       "3969   -0.888091\n",
       "3970   -1.067038\n",
       "3971   -1.368269\n",
       "3972   -0.581015\n",
       "3973   -1.243523\n",
       "3974   -1.116653\n",
       "3975   -0.988588\n",
       "3976   -1.255275\n",
       "3977   -1.051771\n",
       "3978   -1.133101\n",
       "3979   -0.888290\n",
       "3980   -0.632695\n",
       "3981   -0.939418\n",
       "3982   -0.794802\n",
       "3983   -0.900075\n",
       "3984   -1.198907\n",
       "3985   -0.995227\n",
       "3986   -1.064771\n",
       "3987   -0.653427\n",
       "3988   -0.780099\n",
       "3989   -1.040179\n",
       "3990   -1.337028\n",
       "3991   -0.601537\n",
       "3992   -1.050596\n",
       "3993   -0.840608\n",
       "3994   -1.069352\n",
       "3995   -0.701974\n",
       "3996   -1.095149\n",
       "3997   -1.070930\n",
       "3998   -0.851019\n",
       "Name: Height, Length: 3999, dtype: float64"
      ]
     },
     "execution_count": 45,
     "metadata": {},
     "output_type": "execute_result"
    }
   ],
   "source": [
    "#Normalize Height\n",
    "df['Height'] = (df['Height'] - df['Height'].mean())/np.std(df['Height'])\n",
    "df['Height']"
   ]
  },
  {
   "cell_type": "code",
   "execution_count": 46,
   "metadata": {
    "collapsed": true
   },
   "outputs": [
    {
     "data": {
      "text/plain": [
       "0       0.540964\n",
       "1       0.646618\n",
       "2       0.892142\n",
       "3       1.216033\n",
       "4       1.196134\n",
       "5       1.047689\n",
       "6       0.813146\n",
       "7       1.006866\n",
       "8       0.811956\n",
       "9       1.167643\n",
       "10      1.284863\n",
       "11      1.195277\n",
       "12      1.078276\n",
       "13      0.611087\n",
       "14      1.196469\n",
       "15      0.623997\n",
       "16      1.063832\n",
       "17      1.049472\n",
       "18      1.020182\n",
       "19      0.940163\n",
       "20      0.912486\n",
       "21      1.057577\n",
       "22      0.972566\n",
       "23      1.002364\n",
       "24      1.086435\n",
       "25      0.824110\n",
       "26      1.238595\n",
       "27      1.028756\n",
       "28      0.949139\n",
       "29      0.926652\n",
       "          ...   \n",
       "3969   -1.105369\n",
       "3970   -1.028628\n",
       "3971   -0.900388\n",
       "3972   -1.028494\n",
       "3973   -1.104218\n",
       "3974   -1.270864\n",
       "3975   -0.863541\n",
       "3976   -0.720651\n",
       "3977   -1.024354\n",
       "3978   -0.780632\n",
       "3979   -0.565217\n",
       "3980   -0.717966\n",
       "3981   -1.038804\n",
       "3982   -1.458241\n",
       "3983   -1.093240\n",
       "3984   -1.058742\n",
       "3985   -1.328734\n",
       "3986   -1.199993\n",
       "3987   -1.264181\n",
       "3988   -1.478281\n",
       "3989   -1.292026\n",
       "3990   -1.197861\n",
       "3991   -0.754286\n",
       "3992   -0.872919\n",
       "3993   -0.998819\n",
       "3994   -1.153649\n",
       "3995   -1.333440\n",
       "3996   -0.923790\n",
       "3997   -1.075182\n",
       "3998   -0.388029\n",
       "Name: Weight, Length: 3999, dtype: float64"
      ]
     },
     "execution_count": 46,
     "metadata": {},
     "output_type": "execute_result"
    }
   ],
   "source": [
    "#Normalize Weight\n",
    "df['Weight'] = (df['Weight'] - df['Weight'].mean())/np.std(df['Weight'])\n",
    "df['Weight']"
   ]
  },
  {
   "cell_type": "code",
   "execution_count": null,
   "metadata": {},
   "outputs": [],
   "source": [
    "# "
   ]
  },
  {
   "cell_type": "code",
   "execution_count": 50,
   "metadata": {},
   "outputs": [
    {
     "data": {
      "image/png": "[encoded data removed]",
      "text/plain": [
       "<Figure size 406.6x360 with 1 Axes>"
      ]
     },
     "metadata": {
      "needs_background": "light"
     },
     "output_type": "display_data"
    }
   ],
   "source": [
    "df_male = df[df['Sex']==0]\n",
    "df_male\n",
    "\n",
    "df_female = df[df['Sex']==1]\n",
    "df_female\n",
    "\n",
    "sns.lmplot( x=\"Height\", y=\"Weight\",data=df, hue = 'Sex', palette ='GnBu', fit_reg = False)\n",
    "\n",
    "#x = np.arange(4,8)\n",
    "#x = np.arrange(-4,3)\n",
    "\n",
    "a = random.uniform(-0.5,0.5)\n",
    "b = random.uniform(-0.5,0.5)\n",
    "\n",
    "line_boundary = np.amax([abs(np.amin(df['Height'])), abs(np.amax(df['Height']))])\n",
    "x = np.arange(-line_boundary,line_boundary)\n",
    "y =(a)*x + b\n",
    "\n",
    "\n",
    "#y = (-160/6.15)*x+285\n",
    "#y = (-150/7)*x+275\n",
    "#y = (-140/8)*x+255\n",
    "\n",
    "plt.plot(x,y,'red') \n",
    "plt.show()"
   ]
  },
  {
   "cell_type": "code",
   "execution_count": 6,
   "metadata": {},
   "outputs": [
    {
     "name": "stderr",
     "output_type": "stream",
     "text": [
      "/home/aboulhosnc/enter/lib/python3.7/site-packages/ipykernel_launcher.py:14: SettingWithCopyWarning: \n",
      "A value is trying to be set on a copy of a slice from a DataFrame.\n",
      "Try using .loc[row_indexer,col_indexer] = value instead\n",
      "\n",
      "See the caveats in the documentation: http://pandas.pydata.org/pandas-docs/stable/indexing.html#indexing-view-versus-copy\n",
      "  \n"
     ]
    },
    {
     "data": {
      "text/plain": [
       "Height      5.431207\n",
       "Weight    140.797109\n",
       "Sex         0.000000\n",
       "NEW       -16.498274\n",
       "dtype: float64"
      ]
     },
     "execution_count": 6,
     "metadata": {},
     "output_type": "execute_result"
    }
   ],
   "source": [
    "\n",
    "\n",
    "net_output = []\n",
    "\n",
    "for index, row in df_male.iterrows():\n",
    "    x = row['Height']\n",
    "    y = row['Weight']\n",
    "    \n",
    "    #net = (-160/6.15)*x+(-1)*y+285\n",
    "    #net = (-150/7)*x+(-1)*y+275\n",
    "    net = (-140/8)*x+(-1)*y+255\n",
    "    \n",
    "    #print(row['Height'], row['Weight'],net)\n",
    "    net_output.append(net)\n",
    "    \n",
    "df_male['NEW'] = net_output\n",
    "df_male.min()\n"
   ]
  },
  {
   "cell_type": "code",
   "execution_count": 7,
   "metadata": {},
   "outputs": [
    {
     "name": "stderr",
     "output_type": "stream",
     "text": [
      "/home/aboulhosnc/enter/lib/python3.7/site-packages/ipykernel_launcher.py:14: SettingWithCopyWarning: \n",
      "A value is trying to be set on a copy of a slice from a DataFrame.\n",
      "Try using .loc[row_indexer,col_indexer] = value instead\n",
      "\n",
      "See the caveats in the documentation: http://pandas.pydata.org/pandas-docs/stable/indexing.html#indexing-view-versus-copy\n",
      "  \n"
     ]
    },
    {
     "data": {
      "text/plain": [
       "Height      5.097127\n",
       "Weight    138.006680\n",
       "Sex         1.000000\n",
       "NEW       -10.274577\n",
       "dtype: float64"
      ]
     },
     "execution_count": 7,
     "metadata": {},
     "output_type": "execute_result"
    }
   ],
   "source": [
    "\n",
    "\n",
    "net_output = []\n",
    "\n",
    "for index, row in df_female.iterrows():\n",
    "    x = row['Height']\n",
    "    y = row['Weight']\n",
    "    \n",
    "    #net = (-160/6.15)*x+(-1)*y+285\n",
    "    #net = (-150/7)*x+(-1)*y+275\n",
    "    net = (-140/8)*x+(-1)*y+255\n",
    "    \n",
    "    #print(row['Height'], row['Weight'],net)\n",
    "    net_output.append(net)\n",
    "    \n",
    "df_female['NEW'] = net_output\n",
    "df_female.min()"
   ]
  },
  {
   "cell_type": "code",
   "execution_count": 8,
   "metadata": {},
   "outputs": [
    {
     "data": {
      "text/plain": [
       "Height      5.097127\n",
       "Weight    138.006680\n",
       "Sex         0.000000\n",
       "NEW       -16.498274\n",
       "dtype: float64"
      ]
     },
     "execution_count": 8,
     "metadata": {},
     "output_type": "execute_result"
    }
   ],
   "source": [
    "\n",
    "\n",
    "net_output = []\n",
    "\n",
    "for index, row in df.iterrows():\n",
    "    x = row['Height']\n",
    "    y = row['Weight']\n",
    "    \n",
    "    #net = (-160/6.15)*x+(-1)*y+285\n",
    "    #net = ((-150/7)*x)+((-1)*y)+275\n",
    "    net = (-140/8)*x+(-1)*y+255\n",
    "    \n",
    "    net_output.append(net)\n",
    "    \n",
    "df['NEW'] = net_output\n",
    "df.min()"
   ]
  },
  {
   "cell_type": "code",
   "execution_count": 9,
   "metadata": {},
   "outputs": [
    {
     "data": {
      "text/plain": [
       "Height      6.684426\n",
       "Weight    160.788099\n",
       "Sex         0.000000\n",
       "NEW        14.848672\n",
       "dtype: float64"
      ]
     },
     "execution_count": 9,
     "metadata": {},
     "output_type": "execute_result"
    }
   ],
   "source": [
    "df_male.max()"
   ]
  },
  {
   "cell_type": "code",
   "execution_count": 10,
   "metadata": {},
   "outputs": [
    {
     "data": {
      "text/plain": [
       "Height      6.395751\n",
       "Weight    159.292849\n",
       "Sex         1.000000\n",
       "NEW        21.590576\n",
       "dtype: float64"
      ]
     },
     "execution_count": 10,
     "metadata": {},
     "output_type": "execute_result"
    }
   ],
   "source": [
    "df_female.max()"
   ]
  },
  {
   "cell_type": "code",
   "execution_count": 11,
   "metadata": {},
   "outputs": [
    {
     "data": {
      "text/plain": [
       "2.2870476518875194"
      ]
     },
     "execution_count": 11,
     "metadata": {},
     "output_type": "execute_result"
    }
   ],
   "source": [
    "df_threshold = df_male['NEW'].max() - df_female['NEW'].min()\n",
    "df_threshold = (df_threshold / float(2)) + df_female['NEW'].min()\n",
    "df_threshold"
   ]
  },
  {
   "cell_type": "code",
   "execution_count": 13,
   "metadata": {
    "collapsed": true
   },
   "outputs": [
    {
     "data": {
      "text/html": [
       "<div>\n",
       "<style scoped>\n",
       "    .dataframe tbody tr th:only-of-type {\n",
       "        vertical-align: middle;\n",
       "    }\n",
       "\n",
       "    .dataframe tbody tr th {\n",
       "        vertical-align: top;\n",
       "    }\n",
       "\n",
       "    .dataframe thead th {\n",
       "        text-align: right;\n",
       "    }\n",
       "</style>\n",
       "<table border=\"1\" class=\"dataframe\">\n",
       "  <thead>\n",
       "    <tr style=\"text-align: right;\">\n",
       "      <th></th>\n",
       "      <th>Height</th>\n",
       "      <th>Weight</th>\n",
       "      <th>Sex</th>\n",
       "      <th>NEW</th>\n",
       "      <th>Guess</th>\n",
       "    </tr>\n",
       "  </thead>\n",
       "  <tbody>\n",
       "    <tr>\n",
       "      <th>0</th>\n",
       "      <td>6.327717</td>\n",
       "      <td>150.907213</td>\n",
       "      <td>0</td>\n",
       "      <td>-6.642260</td>\n",
       "      <td>0</td>\n",
       "    </tr>\n",
       "    <tr>\n",
       "      <th>1</th>\n",
       "      <td>5.694660</td>\n",
       "      <td>148.256987</td>\n",
       "      <td>0</td>\n",
       "      <td>7.086461</td>\n",
       "      <td>1</td>\n",
       "    </tr>\n",
       "    <tr>\n",
       "      <th>2</th>\n",
       "      <td>5.933878</td>\n",
       "      <td>150.058960</td>\n",
       "      <td>0</td>\n",
       "      <td>1.098180</td>\n",
       "      <td>1</td>\n",
       "    </tr>\n",
       "    <tr>\n",
       "      <th>3</th>\n",
       "      <td>6.302190</td>\n",
       "      <td>149.454809</td>\n",
       "      <td>0</td>\n",
       "      <td>-4.743142</td>\n",
       "      <td>0</td>\n",
       "    </tr>\n",
       "    <tr>\n",
       "      <th>4</th>\n",
       "      <td>6.030857</td>\n",
       "      <td>147.499882</td>\n",
       "      <td>0</td>\n",
       "      <td>1.960123</td>\n",
       "      <td>1</td>\n",
       "    </tr>\n",
       "    <tr>\n",
       "      <th>5</th>\n",
       "      <td>5.798118</td>\n",
       "      <td>154.009722</td>\n",
       "      <td>0</td>\n",
       "      <td>-0.476793</td>\n",
       "      <td>0</td>\n",
       "    </tr>\n",
       "    <tr>\n",
       "      <th>6</th>\n",
       "      <td>5.883103</td>\n",
       "      <td>153.988030</td>\n",
       "      <td>0</td>\n",
       "      <td>-1.942331</td>\n",
       "      <td>0</td>\n",
       "    </tr>\n",
       "    <tr>\n",
       "      <th>7</th>\n",
       "      <td>6.099631</td>\n",
       "      <td>154.788278</td>\n",
       "      <td>0</td>\n",
       "      <td>-6.531826</td>\n",
       "      <td>0</td>\n",
       "    </tr>\n",
       "    <tr>\n",
       "      <th>8</th>\n",
       "      <td>5.919976</td>\n",
       "      <td>150.522467</td>\n",
       "      <td>0</td>\n",
       "      <td>0.877961</td>\n",
       "      <td>1</td>\n",
       "    </tr>\n",
       "    <tr>\n",
       "      <th>9</th>\n",
       "      <td>6.324775</td>\n",
       "      <td>143.621842</td>\n",
       "      <td>0</td>\n",
       "      <td>0.694600</td>\n",
       "      <td>1</td>\n",
       "    </tr>\n",
       "    <tr>\n",
       "      <th>10</th>\n",
       "      <td>5.876411</td>\n",
       "      <td>151.863267</td>\n",
       "      <td>0</td>\n",
       "      <td>0.299546</td>\n",
       "      <td>1</td>\n",
       "    </tr>\n",
       "    <tr>\n",
       "      <th>11</th>\n",
       "      <td>6.198679</td>\n",
       "      <td>150.499376</td>\n",
       "      <td>0</td>\n",
       "      <td>-3.976266</td>\n",
       "      <td>0</td>\n",
       "    </tr>\n",
       "    <tr>\n",
       "      <th>12</th>\n",
       "      <td>5.843787</td>\n",
       "      <td>150.943685</td>\n",
       "      <td>0</td>\n",
       "      <td>1.790047</td>\n",
       "      <td>1</td>\n",
       "    </tr>\n",
       "    <tr>\n",
       "      <th>13</th>\n",
       "      <td>5.734294</td>\n",
       "      <td>158.296512</td>\n",
       "      <td>0</td>\n",
       "      <td>-3.646661</td>\n",
       "      <td>0</td>\n",
       "    </tr>\n",
       "    <tr>\n",
       "      <th>14</th>\n",
       "      <td>5.751548</td>\n",
       "      <td>149.908383</td>\n",
       "      <td>0</td>\n",
       "      <td>4.439521</td>\n",
       "      <td>1</td>\n",
       "    </tr>\n",
       "    <tr>\n",
       "      <th>15</th>\n",
       "      <td>5.856183</td>\n",
       "      <td>153.396563</td>\n",
       "      <td>0</td>\n",
       "      <td>-0.879771</td>\n",
       "      <td>0</td>\n",
       "    </tr>\n",
       "    <tr>\n",
       "      <th>16</th>\n",
       "      <td>6.078364</td>\n",
       "      <td>145.112959</td>\n",
       "      <td>0</td>\n",
       "      <td>3.515670</td>\n",
       "      <td>1</td>\n",
       "    </tr>\n",
       "    <tr>\n",
       "      <th>17</th>\n",
       "      <td>6.157911</td>\n",
       "      <td>150.418748</td>\n",
       "      <td>0</td>\n",
       "      <td>-3.182186</td>\n",
       "      <td>0</td>\n",
       "    </tr>\n",
       "    <tr>\n",
       "      <th>18</th>\n",
       "      <td>5.785373</td>\n",
       "      <td>150.775327</td>\n",
       "      <td>0</td>\n",
       "      <td>2.980642</td>\n",
       "      <td>1</td>\n",
       "    </tr>\n",
       "    <tr>\n",
       "      <th>19</th>\n",
       "      <td>6.042548</td>\n",
       "      <td>153.950279</td>\n",
       "      <td>0</td>\n",
       "      <td>-4.694871</td>\n",
       "      <td>0</td>\n",
       "    </tr>\n",
       "    <tr>\n",
       "      <th>20</th>\n",
       "      <td>6.045900</td>\n",
       "      <td>148.678999</td>\n",
       "      <td>0</td>\n",
       "      <td>0.517742</td>\n",
       "      <td>1</td>\n",
       "    </tr>\n",
       "    <tr>\n",
       "      <th>21</th>\n",
       "      <td>6.239392</td>\n",
       "      <td>150.965623</td>\n",
       "      <td>0</td>\n",
       "      <td>-5.154978</td>\n",
       "      <td>0</td>\n",
       "    </tr>\n",
       "    <tr>\n",
       "      <th>22</th>\n",
       "      <td>5.774990</td>\n",
       "      <td>153.712047</td>\n",
       "      <td>0</td>\n",
       "      <td>0.225636</td>\n",
       "      <td>1</td>\n",
       "    </tr>\n",
       "    <tr>\n",
       "      <th>23</th>\n",
       "      <td>6.181562</td>\n",
       "      <td>148.381557</td>\n",
       "      <td>0</td>\n",
       "      <td>-1.558885</td>\n",
       "      <td>0</td>\n",
       "    </tr>\n",
       "    <tr>\n",
       "      <th>24</th>\n",
       "      <td>6.234239</td>\n",
       "      <td>155.648299</td>\n",
       "      <td>0</td>\n",
       "      <td>-9.747487</td>\n",
       "      <td>0</td>\n",
       "    </tr>\n",
       "    <tr>\n",
       "      <th>25</th>\n",
       "      <td>6.103609</td>\n",
       "      <td>152.075196</td>\n",
       "      <td>0</td>\n",
       "      <td>-3.888346</td>\n",
       "      <td>0</td>\n",
       "    </tr>\n",
       "    <tr>\n",
       "      <th>26</th>\n",
       "      <td>5.970722</td>\n",
       "      <td>147.774347</td>\n",
       "      <td>0</td>\n",
       "      <td>2.738026</td>\n",
       "      <td>1</td>\n",
       "    </tr>\n",
       "    <tr>\n",
       "      <th>27</th>\n",
       "      <td>6.152141</td>\n",
       "      <td>147.690922</td>\n",
       "      <td>0</td>\n",
       "      <td>-0.353393</td>\n",
       "      <td>0</td>\n",
       "    </tr>\n",
       "    <tr>\n",
       "      <th>28</th>\n",
       "      <td>5.878038</td>\n",
       "      <td>147.700806</td>\n",
       "      <td>0</td>\n",
       "      <td>4.433532</td>\n",
       "      <td>1</td>\n",
       "    </tr>\n",
       "    <tr>\n",
       "      <th>29</th>\n",
       "      <td>6.022140</td>\n",
       "      <td>146.508675</td>\n",
       "      <td>0</td>\n",
       "      <td>3.103881</td>\n",
       "      <td>1</td>\n",
       "    </tr>\n",
       "    <tr>\n",
       "      <th>...</th>\n",
       "      <td>...</td>\n",
       "      <td>...</td>\n",
       "      <td>...</td>\n",
       "      <td>...</td>\n",
       "      <td>...</td>\n",
       "    </tr>\n",
       "    <tr>\n",
       "      <th>3969</th>\n",
       "      <td>5.650693</td>\n",
       "      <td>150.875064</td>\n",
       "      <td>1</td>\n",
       "      <td>5.237812</td>\n",
       "      <td>1</td>\n",
       "    </tr>\n",
       "    <tr>\n",
       "      <th>3970</th>\n",
       "      <td>5.576239</td>\n",
       "      <td>145.707210</td>\n",
       "      <td>1</td>\n",
       "      <td>11.708608</td>\n",
       "      <td>1</td>\n",
       "    </tr>\n",
       "    <tr>\n",
       "      <th>3971</th>\n",
       "      <td>6.092232</td>\n",
       "      <td>145.878872</td>\n",
       "      <td>1</td>\n",
       "      <td>2.507065</td>\n",
       "      <td>1</td>\n",
       "    </tr>\n",
       "    <tr>\n",
       "      <th>3972</th>\n",
       "      <td>5.527747</td>\n",
       "      <td>153.127458</td>\n",
       "      <td>1</td>\n",
       "      <td>5.136973</td>\n",
       "      <td>1</td>\n",
       "    </tr>\n",
       "    <tr>\n",
       "      <th>3973</th>\n",
       "      <td>5.711033</td>\n",
       "      <td>141.101479</td>\n",
       "      <td>1</td>\n",
       "      <td>13.955439</td>\n",
       "      <td>1</td>\n",
       "    </tr>\n",
       "    <tr>\n",
       "      <th>3974</th>\n",
       "      <td>6.154773</td>\n",
       "      <td>150.197181</td>\n",
       "      <td>1</td>\n",
       "      <td>-2.905717</td>\n",
       "      <td>0</td>\n",
       "    </tr>\n",
       "    <tr>\n",
       "      <th>3975</th>\n",
       "      <td>5.773779</td>\n",
       "      <td>143.965820</td>\n",
       "      <td>1</td>\n",
       "      <td>9.993052</td>\n",
       "      <td>1</td>\n",
       "    </tr>\n",
       "    <tr>\n",
       "      <th>3976</th>\n",
       "      <td>5.446559</td>\n",
       "      <td>149.091391</td>\n",
       "      <td>1</td>\n",
       "      <td>10.593835</td>\n",
       "      <td>1</td>\n",
       "    </tr>\n",
       "    <tr>\n",
       "      <th>3977</th>\n",
       "      <td>5.763803</td>\n",
       "      <td>147.714815</td>\n",
       "      <td>1</td>\n",
       "      <td>6.418631</td>\n",
       "      <td>1</td>\n",
       "    </tr>\n",
       "    <tr>\n",
       "      <th>3978</th>\n",
       "      <td>5.809317</td>\n",
       "      <td>146.805230</td>\n",
       "      <td>1</td>\n",
       "      <td>6.531723</td>\n",
       "      <td>1</td>\n",
       "    </tr>\n",
       "    <tr>\n",
       "      <th>3979</th>\n",
       "      <td>6.124022</td>\n",
       "      <td>150.960192</td>\n",
       "      <td>1</td>\n",
       "      <td>-3.130584</td>\n",
       "      <td>0</td>\n",
       "    </tr>\n",
       "    <tr>\n",
       "      <th>3980</th>\n",
       "      <td>5.857313</td>\n",
       "      <td>145.473764</td>\n",
       "      <td>1</td>\n",
       "      <td>7.023264</td>\n",
       "      <td>1</td>\n",
       "    </tr>\n",
       "    <tr>\n",
       "      <th>3981</th>\n",
       "      <td>5.777729</td>\n",
       "      <td>149.651319</td>\n",
       "      <td>1</td>\n",
       "      <td>4.238429</td>\n",
       "      <td>1</td>\n",
       "    </tr>\n",
       "    <tr>\n",
       "      <th>3982</th>\n",
       "      <td>6.012416</td>\n",
       "      <td>148.629283</td>\n",
       "      <td>1</td>\n",
       "      <td>1.153440</td>\n",
       "      <td>1</td>\n",
       "    </tr>\n",
       "    <tr>\n",
       "      <th>3983</th>\n",
       "      <td>5.920345</td>\n",
       "      <td>152.883936</td>\n",
       "      <td>1</td>\n",
       "      <td>-1.489965</td>\n",
       "      <td>0</td>\n",
       "    </tr>\n",
       "    <tr>\n",
       "      <th>3984</th>\n",
       "      <td>5.796538</td>\n",
       "      <td>147.157882</td>\n",
       "      <td>1</td>\n",
       "      <td>6.402703</td>\n",
       "      <td>1</td>\n",
       "    </tr>\n",
       "    <tr>\n",
       "      <th>3985</th>\n",
       "      <td>5.758453</td>\n",
       "      <td>148.938818</td>\n",
       "      <td>1</td>\n",
       "      <td>5.288252</td>\n",
       "      <td>1</td>\n",
       "    </tr>\n",
       "    <tr>\n",
       "      <th>3986</th>\n",
       "      <td>5.819840</td>\n",
       "      <td>146.785145</td>\n",
       "      <td>1</td>\n",
       "      <td>6.367659</td>\n",
       "      <td>1</td>\n",
       "    </tr>\n",
       "    <tr>\n",
       "      <th>3987</th>\n",
       "      <td>6.152998</td>\n",
       "      <td>142.143034</td>\n",
       "      <td>1</td>\n",
       "      <td>5.179498</td>\n",
       "      <td>1</td>\n",
       "    </tr>\n",
       "    <tr>\n",
       "      <th>3988</th>\n",
       "      <td>5.615391</td>\n",
       "      <td>148.333253</td>\n",
       "      <td>1</td>\n",
       "      <td>8.397407</td>\n",
       "      <td>1</td>\n",
       "    </tr>\n",
       "    <tr>\n",
       "      <th>3989</th>\n",
       "      <td>5.802064</td>\n",
       "      <td>143.398293</td>\n",
       "      <td>1</td>\n",
       "      <td>10.065588</td>\n",
       "      <td>1</td>\n",
       "    </tr>\n",
       "    <tr>\n",
       "      <th>3990</th>\n",
       "      <td>5.957221</td>\n",
       "      <td>148.650096</td>\n",
       "      <td>1</td>\n",
       "      <td>2.098535</td>\n",
       "      <td>1</td>\n",
       "    </tr>\n",
       "    <tr>\n",
       "      <th>3991</th>\n",
       "      <td>6.069086</td>\n",
       "      <td>147.497208</td>\n",
       "      <td>1</td>\n",
       "      <td>1.293787</td>\n",
       "      <td>1</td>\n",
       "    </tr>\n",
       "    <tr>\n",
       "      <th>3992</th>\n",
       "      <td>5.704201</td>\n",
       "      <td>149.091937</td>\n",
       "      <td>1</td>\n",
       "      <td>6.084539</td>\n",
       "      <td>1</td>\n",
       "    </tr>\n",
       "    <tr>\n",
       "      <th>3993</th>\n",
       "      <td>5.757263</td>\n",
       "      <td>150.247377</td>\n",
       "      <td>1</td>\n",
       "      <td>4.000527</td>\n",
       "      <td>1</td>\n",
       "    </tr>\n",
       "    <tr>\n",
       "      <th>3994</th>\n",
       "      <td>5.717660</td>\n",
       "      <td>138.420265</td>\n",
       "      <td>1</td>\n",
       "      <td>16.520688</td>\n",
       "      <td>1</td>\n",
       "    </tr>\n",
       "    <tr>\n",
       "      <th>3995</th>\n",
       "      <td>5.691223</td>\n",
       "      <td>143.901001</td>\n",
       "      <td>1</td>\n",
       "      <td>11.502598</td>\n",
       "      <td>1</td>\n",
       "    </tr>\n",
       "    <tr>\n",
       "      <th>3996</th>\n",
       "      <td>6.022141</td>\n",
       "      <td>145.397566</td>\n",
       "      <td>1</td>\n",
       "      <td>4.214964</td>\n",
       "      <td>1</td>\n",
       "    </tr>\n",
       "    <tr>\n",
       "      <th>3997</th>\n",
       "      <td>5.773216</td>\n",
       "      <td>146.847931</td>\n",
       "      <td>1</td>\n",
       "      <td>7.120789</td>\n",
       "      <td>1</td>\n",
       "    </tr>\n",
       "    <tr>\n",
       "      <th>3998</th>\n",
       "      <td>5.629173</td>\n",
       "      <td>151.753792</td>\n",
       "      <td>1</td>\n",
       "      <td>4.735680</td>\n",
       "      <td>1</td>\n",
       "    </tr>\n",
       "  </tbody>\n",
       "</table>\n",
       "<p>3999 rows × 5 columns</p>\n",
       "</div>"
      ],
      "text/plain": [
       "        Height      Weight  Sex        NEW  Guess\n",
       "0     6.327717  150.907213    0  -6.642260      0\n",
       "1     5.694660  148.256987    0   7.086461      1\n",
       "2     5.933878  150.058960    0   1.098180      1\n",
       "3     6.302190  149.454809    0  -4.743142      0\n",
       "4     6.030857  147.499882    0   1.960123      1\n",
       "5     5.798118  154.009722    0  -0.476793      0\n",
       "6     5.883103  153.988030    0  -1.942331      0\n",
       "7     6.099631  154.788278    0  -6.531826      0\n",
       "8     5.919976  150.522467    0   0.877961      1\n",
       "9     6.324775  143.621842    0   0.694600      1\n",
       "10    5.876411  151.863267    0   0.299546      1\n",
       "11    6.198679  150.499376    0  -3.976266      0\n",
       "12    5.843787  150.943685    0   1.790047      1\n",
       "13    5.734294  158.296512    0  -3.646661      0\n",
       "14    5.751548  149.908383    0   4.439521      1\n",
       "15    5.856183  153.396563    0  -0.879771      0\n",
       "16    6.078364  145.112959    0   3.515670      1\n",
       "17    6.157911  150.418748    0  -3.182186      0\n",
       "18    5.785373  150.775327    0   2.980642      1\n",
       "19    6.042548  153.950279    0  -4.694871      0\n",
       "20    6.045900  148.678999    0   0.517742      1\n",
       "21    6.239392  150.965623    0  -5.154978      0\n",
       "22    5.774990  153.712047    0   0.225636      1\n",
       "23    6.181562  148.381557    0  -1.558885      0\n",
       "24    6.234239  155.648299    0  -9.747487      0\n",
       "25    6.103609  152.075196    0  -3.888346      0\n",
       "26    5.970722  147.774347    0   2.738026      1\n",
       "27    6.152141  147.690922    0  -0.353393      0\n",
       "28    5.878038  147.700806    0   4.433532      1\n",
       "29    6.022140  146.508675    0   3.103881      1\n",
       "...        ...         ...  ...        ...    ...\n",
       "3969  5.650693  150.875064    1   5.237812      1\n",
       "3970  5.576239  145.707210    1  11.708608      1\n",
       "3971  6.092232  145.878872    1   2.507065      1\n",
       "3972  5.527747  153.127458    1   5.136973      1\n",
       "3973  5.711033  141.101479    1  13.955439      1\n",
       "3974  6.154773  150.197181    1  -2.905717      0\n",
       "3975  5.773779  143.965820    1   9.993052      1\n",
       "3976  5.446559  149.091391    1  10.593835      1\n",
       "3977  5.763803  147.714815    1   6.418631      1\n",
       "3978  5.809317  146.805230    1   6.531723      1\n",
       "3979  6.124022  150.960192    1  -3.130584      0\n",
       "3980  5.857313  145.473764    1   7.023264      1\n",
       "3981  5.777729  149.651319    1   4.238429      1\n",
       "3982  6.012416  148.629283    1   1.153440      1\n",
       "3983  5.920345  152.883936    1  -1.489965      0\n",
       "3984  5.796538  147.157882    1   6.402703      1\n",
       "3985  5.758453  148.938818    1   5.288252      1\n",
       "3986  5.819840  146.785145    1   6.367659      1\n",
       "3987  6.152998  142.143034    1   5.179498      1\n",
       "3988  5.615391  148.333253    1   8.397407      1\n",
       "3989  5.802064  143.398293    1  10.065588      1\n",
       "3990  5.957221  148.650096    1   2.098535      1\n",
       "3991  6.069086  147.497208    1   1.293787      1\n",
       "3992  5.704201  149.091937    1   6.084539      1\n",
       "3993  5.757263  150.247377    1   4.000527      1\n",
       "3994  5.717660  138.420265    1  16.520688      1\n",
       "3995  5.691223  143.901001    1  11.502598      1\n",
       "3996  6.022141  145.397566    1   4.214964      1\n",
       "3997  5.773216  146.847931    1   7.120789      1\n",
       "3998  5.629173  151.753792    1   4.735680      1\n",
       "\n",
       "[3999 rows x 5 columns]"
      ]
     },
     "execution_count": 13,
     "metadata": {},
     "output_type": "execute_result"
    }
   ],
   "source": [
    "\n",
    "\n",
    "guess = []\n",
    "\n",
    "for index, row in df.iterrows():\n",
    "    z = row['NEW']\n",
    "    if z < 0:\n",
    "        guess_out = 0\n",
    "        guess.append(guess_out)\n",
    "    else:\n",
    "        guess_out = 1\n",
    "        guess.append(guess_out)\n",
    "\n",
    "df['Guess'] = guess\n",
    "df\n",
    "######################################"
   ]
  },
  {
   "cell_type": "code",
   "execution_count": 15,
   "metadata": {
    "collapsed": true
   },
   "outputs": [
    {
     "name": "stdout",
     "output_type": "stream",
     "text": [
      "        Height      Weight  Sex        NEW  Guess  Check\n",
      "1     5.694660  148.256987    0   7.086461      1     -1\n",
      "2     5.933878  150.058960    0   1.098180      1     -1\n",
      "4     6.030857  147.499882    0   1.960123      1     -1\n",
      "8     5.919976  150.522467    0   0.877961      1     -1\n",
      "9     6.324775  143.621842    0   0.694600      1     -1\n",
      "10    5.876411  151.863267    0   0.299546      1     -1\n",
      "12    5.843787  150.943685    0   1.790047      1     -1\n",
      "14    5.751548  149.908383    0   4.439521      1     -1\n",
      "16    6.078364  145.112959    0   3.515670      1     -1\n",
      "18    5.785373  150.775327    0   2.980642      1     -1\n",
      "20    6.045900  148.678999    0   0.517742      1     -1\n",
      "22    5.774990  153.712047    0   0.225636      1     -1\n",
      "26    5.970722  147.774347    0   2.738026      1     -1\n",
      "28    5.878038  147.700806    0   4.433532      1     -1\n",
      "29    6.022140  146.508675    0   3.103881      1     -1\n",
      "31    5.583482  145.162218    0  12.126851      1     -1\n",
      "32    5.701956  146.549274    0   8.666493      1     -1\n",
      "33    5.852014  148.226921    0   4.362829      1     -1\n",
      "36    6.004822  148.149442    0   1.766165      1     -1\n",
      "37    6.001051  149.470675    0   0.510925      1     -1\n",
      "38    5.944068  148.008428    0   2.970377      1     -1\n",
      "39    5.526497  149.631361    0   8.654942      1     -1\n",
      "40    5.857343  150.622318    0   1.874184      1     -1\n",
      "43    5.972229  148.566073    0   1.919927      1     -1\n",
      "46    5.718077  148.103411    0   6.830235      1     -1\n",
      "47    5.905727  150.934581    0   0.715195      1     -1\n",
      "48    5.954311  142.797729    0   8.001833      1     -1\n",
      "49    5.897946  149.240503    0   2.545438      1     -1\n",
      "51    6.002556  148.924352    0   1.030911      1     -1\n",
      "52    5.909723  142.992617    0   8.587234      1     -1\n",
      "...        ...         ...  ...        ...    ...    ...\n",
      "3767  6.108364  149.642968    1  -1.539333      0      1\n",
      "3769  6.282678  149.893853    1  -4.840717      0      1\n",
      "3774  6.097891  149.378513    1  -1.091607      0      1\n",
      "3787  6.124798  148.848615    1  -1.032580      0      1\n",
      "3798  5.891278  156.339192    1  -4.436553      0      1\n",
      "3800  5.868767  152.327883    1  -0.031310      0      1\n",
      "3814  5.937381  151.738828    1  -0.642998      0      1\n",
      "3827  5.966115  152.140280    1  -1.547288      0      1\n",
      "3833  6.108686  151.068677    1  -2.970681      0      1\n",
      "3834  6.063784  151.754445    1  -2.870662      0      1\n",
      "3844  6.129956  147.858487    1  -0.132718      0      1\n",
      "3848  6.175117  152.382168    1  -5.446710      0      1\n",
      "3849  5.932192  154.027582    1  -2.840946      0      1\n",
      "3856  5.834889  154.462173    1  -1.572725      0      1\n",
      "3874  6.020577  150.054923    1  -0.415014      0      1\n",
      "3885  5.869111  152.454058    1  -0.163503      0      1\n",
      "3887  6.127168  148.713153    1  -0.938584      0      1\n",
      "3889  6.144536  149.241824    1  -1.771199      0      1\n",
      "3910  6.197673  147.293087    1  -0.752357      0      1\n",
      "3914  5.986355  151.650555    1  -1.411768      0      1\n",
      "3926  5.997535  150.833535    1  -0.790402      0      1\n",
      "3927  6.128404  149.698007    1  -1.945078      0      1\n",
      "3932  5.511674  159.292849    1  -0.747142      0      1\n",
      "3941  5.777070  154.879653    1  -0.978383      0      1\n",
      "3946  6.070031  151.781341    1  -3.006881      0      1\n",
      "3953  5.947207  151.626228    1  -0.702357      0      1\n",
      "3966  6.264056  151.472819    1  -6.093799      0      1\n",
      "3974  6.154773  150.197181    1  -2.905717      0      1\n",
      "3979  6.124022  150.960192    1  -3.130584      0      1\n",
      "3983  5.920345  152.883936    1  -1.489965      0      1\n",
      "\n",
      "[1209 rows x 6 columns]\n"
     ]
    },
    {
     "name": "stderr",
     "output_type": "stream",
     "text": [
      "/home/aboulhosnc/enter/lib/python3.7/site-packages/ipykernel_launcher.py:3: FutureWarning: Series.nonzero() is deprecated and will be removed in a future version.Use Series.to_numpy().nonzero() instead\n",
      "  This is separate from the ipykernel package so we can avoid doing imports until\n"
     ]
    }
   ],
   "source": [
    "## CHECK THE GUESSES \n",
    "df['Check'] = df['Sex'] - df['Guess']\n",
    "values = df.iloc[df['Check'].nonzero()]\n",
    "print (values)\n",
    "######################################"
   ]
  },
  {
   "cell_type": "code",
   "execution_count": 16,
   "metadata": {},
   "outputs": [
    {
     "name": "stdout",
     "output_type": "stream",
     "text": [
      "975 234 1766 1024\n"
     ]
    }
   ],
   "source": [
    "## COUNTING METRICS \n",
    "false_p = 0\n",
    "false_n = 0\n",
    "true_n = 0\n",
    "true_p = 0\n",
    "for index, row in df.iterrows():\n",
    "    z = row['Check']\n",
    "    w = row['Guess']\n",
    "    if z == -1:\n",
    "        false_p = false_p + 1\n",
    "    elif z == 1:\n",
    "        false_n = false_n + 1\n",
    "    elif w == 0:\n",
    "        true_n = true_n + 1\n",
    "    elif w == 1:\n",
    "        true_p = true_p +1\n",
    "    \n",
    "        \n",
    "print(false_p, false_n, true_p, true_n)\n",
    "\n",
    "#######################################"
   ]
  },
  {
   "cell_type": "code",
   "execution_count": 18,
   "metadata": {},
   "outputs": [
    {
     "name": "stdout",
     "output_type": "stream",
     "text": [
      "0.6976744186046512\n",
      "0.3023255813953488\n"
     ]
    }
   ],
   "source": [
    "## ACCURACY AND ERROR \n",
    "acc = 0\n",
    "\n",
    "acc = (float(true_p + true_n)/(true_p + true_n + false_p + false_n))\n",
    "print (acc)\n",
    "\n",
    "err = 1-acc\n",
    "print(err)\n",
    "######################################"
   ]
  },
  {
   "cell_type": "code",
   "execution_count": 19,
   "metadata": {},
   "outputs": [
    {
     "name": "stdout",
     "output_type": "stream",
     "text": [
      "0.6329749103942652\n"
     ]
    }
   ],
   "source": [
    "## TRUE POSITIVE\n",
    "tp = 0\n",
    "\n",
    "tp = float(true_p)/(true_p + true_n)\n",
    "print(tp)\n",
    "######################################"
   ]
  },
  {
   "cell_type": "code",
   "execution_count": 24,
   "metadata": {},
   "outputs": [
    {
     "name": "stdout",
     "output_type": "stream",
     "text": [
      "0.883\n"
     ]
    }
   ],
   "source": [
    "## TRue Positive version two\n",
    "tp2 = 0\n",
    "\n",
    "tp2 = float(true_p)/(true_p + false_n)\n",
    "print(tp2)\n"
   ]
  },
  {
   "cell_type": "code",
   "execution_count": 20,
   "metadata": {},
   "outputs": [
    {
     "name": "stdout",
     "output_type": "stream",
     "text": [
      "0.36702508960573477\n"
     ]
    }
   ],
   "source": [
    "## TRUE NEGATIVE \n",
    "tn = 0\n",
    "\n",
    "tn = float(true_n)/(true_p + true_n)\n",
    "print(tn)\n",
    "######################################"
   ]
  },
  {
   "cell_type": "code",
   "execution_count": 21,
   "metadata": {},
   "outputs": [
    {
     "name": "stdout",
     "output_type": "stream",
     "text": [
      "0.512256128064032\n"
     ]
    }
   ],
   "source": [
    "# True Negative version 2\n",
    "tn2 = 0\n",
    "\n",
    "tn2 = float(true_n)/(false_p + true_n)\n",
    "print(tn2)\n"
   ]
  },
  {
   "cell_type": "code",
   "execution_count": 92,
   "metadata": {},
   "outputs": [
    {
     "name": "stdout",
     "output_type": "stream",
     "text": [
      "0.474591651543\n"
     ]
    }
   ],
   "source": [
    "## FALSE POSITIVE\n",
    "fp = 0\n",
    "\n",
    "fp = float(false_p)/(false_p + false_n)\n",
    "print(fp)\n",
    "######################################"
   ]
  },
  {
   "cell_type": "code",
   "execution_count": 22,
   "metadata": {},
   "outputs": [
    {
     "name": "stdout",
     "output_type": "stream",
     "text": [
      "0.48774387193596797\n"
     ]
    }
   ],
   "source": [
    "## False Positive Version two\n",
    "fp2 = 0\n",
    "\n",
    "fp2 = float(false_p)/(false_p + true_n)\n",
    "print(fp2)\n"
   ]
  },
  {
   "cell_type": "code",
   "execution_count": 93,
   "metadata": {},
   "outputs": [
    {
     "name": "stdout",
     "output_type": "stream",
     "text": [
      "0.525408348457\n"
     ]
    }
   ],
   "source": [
    "## FALSE NEGATIVE\n",
    "fn = 0\n",
    "\n",
    "fn = float(false_n)/(false_p + false_n)\n",
    "print(fn)\n",
    "######################################"
   ]
  },
  {
   "cell_type": "code",
   "execution_count": 23,
   "metadata": {},
   "outputs": [
    {
     "name": "stdout",
     "output_type": "stream",
     "text": [
      "0.117\n"
     ]
    }
   ],
   "source": [
    "## False Negative version 2\n",
    "fn2 = 0\n",
    "\n",
    "fn2 = float(false_n)/(true_p + false_n)\n",
    "print (fn2)\n"
   ]
  },
  {
   "cell_type": "code",
   "execution_count": 94,
   "metadata": {},
   "outputs": [
    {
     "name": "stdout",
     "output_type": "stream",
     "text": [
      "0.730967078189\n"
     ]
    }
   ],
   "source": [
    "## PRECISION\n",
    "prec = 0\n",
    "\n",
    "prec = float(true_p)/(true_p + false_p)\n",
    "print(prec)\n",
    "######################################"
   ]
  },
  {
   "cell_type": "code",
   "execution_count": 95,
   "metadata": {},
   "outputs": [
    {
     "name": "stdout",
     "output_type": "stream",
     "text": [
      "y = (-150/7)*x+275\n"
     ]
    }
   ],
   "source": [
    "print('y = (-150/7)*x+275')"
   ]
  },
  {
   "cell_type": "code",
   "execution_count": 96,
   "metadata": {},
   "outputs": [
    {
     "name": "stdout",
     "output_type": "stream",
     "text": [
      "0 <= ((-150/7)*x)+((-1)*y)+275\n"
     ]
    }
   ],
   "source": [
    "print('0 <= ((-150/7)*x)+((-1)*y)+275')"
   ]
  },
  {
   "cell_type": "code",
   "execution_count": null,
   "metadata": {},
   "outputs": [],
   "source": []
  }
 ],
 "metadata": {
  "kernelspec": {
   "display_name": "Python 3",
   "language": "python",
   "name": "python3"
  },
  "language_info": {
   "codemirror_mode": {
    "name": "ipython",
    "version": 3
   },
   "file_extension": ".py",
   "mimetype": "text/x-python",
   "name": "python",
   "nbconvert_exporter": "python",
   "pygments_lexer": "ipython3",
   "version": "3.7.3"
  }
 },
 "nbformat": 4,
 "nbformat_minor": 2
}
