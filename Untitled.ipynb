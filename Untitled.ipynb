{
 "cells": [
  {
   "cell_type": "code",
   "execution_count": 6,
   "metadata": {},
   "outputs": [
    {
     "name": "stdout",
     "output_type": "stream",
     "text": [
      "groupB.txt\n",
      "slope = -0.9053661018410092\n",
      "intercept = -0.009869404941877775\n",
      "false positive = 25 false positive % = 0.625\n",
      "false negative = 22 false negative % = 0.5499999999999999\n",
      "true positive % = 99.375\n",
      "true negative % = 99.45\n",
      "accuracy % = 98.825\n"
     ]
    },
    {
     "data": {
      "image/png": "[encoded data removed]",
      "text/plain": [
       "<Figure size 432x288 with 1 Axes>"
      ]
     },
     "metadata": {
      "needs_background": "light"
     },
     "output_type": "display_data"
    }
   ],
   "source": [
    "import numpy as np\n",
    "import matplotlib.pyplot as plt\n",
    "import pandas as pd\n",
    "import scipy\n",
    "import sklearn.svm as svm\n",
    "\n",
    "filename = 'groupB.txt'\n",
    "data = pd.read_csv(filename, header = None, names = (['height', 'weight', 'gender']))\n",
    "\n",
    "height = data['height']\n",
    "weight = data['weight']\n",
    "\n",
    "meanHeight = sum(height) / len(height)\n",
    "meanWeight = sum(weight) / len(weight)\n",
    "\n",
    "stdHeight = np.std(height)\n",
    "stdWeight = np.std(weight)\n",
    "\n",
    "height = (height - meanHeight) / stdHeight\n",
    "weight = (weight - meanWeight) / stdWeight\n",
    "\n",
    "heightM = height[:2000]\n",
    "heightF = height[2000:]\n",
    "\n",
    "weightM = weight[:2000]\n",
    "weightF = weight[2000:]\n",
    "\n",
    "plt.scatter(heightM, weightM, color = 'b', label = 'male')\n",
    "plt.scatter(heightF, weightF, color = 'r', label = 'female')\n",
    "\n",
    "plt.xlabel('height')\n",
    "plt.ylabel('weight')\n",
    "\n",
    "plt.legend()\n",
    "\n",
    "dataM = np.vstack((heightM, weightM)).T\n",
    "dataF = np.vstack((heightF, weightF)).T\n",
    "\n",
    "X = np.concatenate((dataM, dataF), axis = 0)\n",
    "Y = np.array([0]*2000 + [1]*2000)\n",
    "\n",
    "C = 1.0\n",
    "clf = svm.SVC(kernel = 'linear', gamma = 0.7, C = C)\n",
    "clf.fit(X, Y)\n",
    "\n",
    "w = clf.coef_[0]\n",
    "a = -w[0] / w[1]\n",
    "xx = np.linspace(np.amin(height), np.amax(height))\n",
    "yy = a * xx - (clf.intercept_[0]) / w[1]\n",
    "\n",
    "print(filename)\n",
    "print('slope =', a)\n",
    "print('intercept =', - clf.intercept_[0] / w[1])\n",
    "\n",
    "falsePos = 0\n",
    "falseNeg = 0\n",
    "\n",
    "for d in dataM:\n",
    "    threshhold = a * d[0] - (clf.intercept_[0]) / w[1]\n",
    "    if d[1] < threshhold:\n",
    "        falsePos = falsePos + 1\n",
    "        \n",
    "falsePosPercent = falsePos / 4000 * 100\n",
    "\n",
    "for d in dataF:\n",
    "    threshhold = a * d[0] - (clf.intercept_[0]) / w[1]\n",
    "    if d[1] > threshhold:\n",
    "        falseNeg = falseNeg + 1\n",
    "        \n",
    "falseNegPercent = falseNeg / 4000 * 100\n",
    "        \n",
    "print('false positive =', falsePos, 'false positive % =', falsePosPercent)\n",
    "print('false negative =', falseNeg, 'false negative % =', falseNegPercent)\n",
    "\n",
    "print('true positive % =', 100 - falsePosPercent)\n",
    "print('true negative % =', 100 - falseNegPercent)\n",
    "print('accuracy % =', 100 - ((falsePos + falseNeg) / 4000) * 100)\n",
    "\n",
    "plt.plot(xx, yy, 'k-')\n",
    "\n",
    "plt.show()"
   ]
  },
  {
   "cell_type": "code",
   "execution_count": null,
   "metadata": {},
   "outputs": [],
   "source": []
  }
 ],
 "metadata": {
  "kernelspec": {
   "display_name": "Python 3",
   "language": "python",
   "name": "python3"
  },
  "language_info": {
   "codemirror_mode": {
    "name": "ipython",
    "version": 3
   },
   "file_extension": ".py",
   "mimetype": "text/x-python",
   "name": "python",
   "nbconvert_exporter": "python",
   "pygments_lexer": "ipython3",
   "version": "3.7.3"
  }
 },
 "nbformat": 4,
 "nbformat_minor": 2
}
